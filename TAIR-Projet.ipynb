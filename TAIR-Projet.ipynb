{
 "cells": [
  {
   "cell_type": "markdown",
   "metadata": {},
   "source": [
    "# Classification des documents du procès des groupes américains du tabac\n",
    "\n",
    "## Mélodie Boillet\n",
    "### 22/12/2018"
   ]
  },
  {
   "cell_type": "markdown",
   "metadata": {},
   "source": [
    "## 1. Stockage des fichiers texte et de leurs contenus dans des dictionnaires."
   ]
  },
  {
   "cell_type": "code",
   "execution_count": 65,
   "metadata": {},
   "outputs": [],
   "source": [
    "def get_data():\n",
    "    texts_names = dict()\n",
    "    texts_contents = dict()\n",
    "    text_category_couples = []\n",
    "    # Iterate on all the directories.\n",
    "    for dir_name in os.listdir(\"./data/Tobacco3482-OCR\"):\n",
    "        # Get all the file names in the current \"dir_name\" directory.\n",
    "        file_names = os.listdir(\"./data/Tobacco3482-OCR/\"+dir_name)\n",
    "        names = []\n",
    "        contents = []\n",
    "        # Iterate on all the files of the current \"dir_name\" directory.\n",
    "        for file_name in file_names:\n",
    "            names.append(file_name)\n",
    "            with open(\"./data/Tobacco3482-OCR/\"+dir_name+\"/\"+file_name, 'r', encoding=\"utf8\") as file:\n",
    "                data = file.read()\n",
    "                text_category_couples.append((data, dir_name))\n",
    "                contents.append(data)\n",
    "        # Create a dictionary with the categories as keys and an array of the names of the text files as values.\n",
    "        texts_names[dir_name] = names\n",
    "        # Create a dictionary with the categories as keys and an array of the contents of the text files as values.\n",
    "        texts_contents[dir_name] = contents\n",
    "    return texts_names, texts_contents, text_category_couples"
   ]
  },
  {
   "cell_type": "markdown",
   "metadata": {},
   "source": [
    "## 2. Analyse des données."
   ]
  },
  {
   "cell_type": "code",
   "execution_count": 66,
   "metadata": {},
   "outputs": [],
   "source": [
    "def data_analysis(texts_names, texts_contents):\n",
    "    fig, (ax1, ax2) = plt.subplots(1, 2, figsize=(20, 5))\n",
    "\n",
    "    # Repartition of the texts by category.\n",
    "    ax1.bar(list(texts_names.keys()), [len(texts_names[category]) for category in texts_names.keys()])\n",
    "    ax1.set_xlabel('Categorie')\n",
    "    ax1.set_ylabel('Nombre de textes')\n",
    "    ax1.set_title('Nombre de textes par categorie\\n')\n",
    "\n",
    "    # Mean number of letters in the texts by category.\n",
    "    mean_lengths = dict()\n",
    "    for class_name in list(texts_names.keys()):\n",
    "        sum_lengths = 0\n",
    "        mean_length = 0\n",
    "        for index, text in enumerate(texts_contents[class_name]):\n",
    "            sum_lengths += len(text)\n",
    "        mean_length = sum_lengths / (index + 1)\n",
    "        mean_lengths[class_name] = mean_length\n",
    "\n",
    "    ax2.bar(list(mean_lengths.keys()), list(mean_lengths.values()))\n",
    "    ax2.set_xlabel('Categorie')\n",
    "    ax2.set_ylabel('Nombre moyen de lettres')\n",
    "    ax2.set_title('Nombre moyen de lettres par categorie\\n')\n",
    "    plt.show()"
   ]
  },
  {
   "cell_type": "markdown",
   "metadata": {},
   "source": [
    "## 3. Pré-traitement des données."
   ]
  },
  {
   "cell_type": "code",
   "execution_count": 67,
   "metadata": {},
   "outputs": [],
   "source": [
    "def BoW_vectors(train, dev, test):\n",
    "    # Create text vectors in a Bag of words representation.\n",
    "    vectorizer = CountVectorizer(max_features=2000)\n",
    "    vectorizer.fit(train)\n",
    "    X_train_counts = vectorizer.transform(train)\n",
    "    X_dev_counts = vectorizer.transform(dev)\n",
    "    X_test_counts = vectorizer.transform(test)\n",
    "    return X_train_counts, X_dev_counts, X_test_counts"
   ]
  },
  {
   "cell_type": "code",
   "execution_count": 68,
   "metadata": {},
   "outputs": [],
   "source": [
    "def TFIDF_vectors(train, dev, test):\n",
    "    # Create text vectors in a TF-IDF representation.\n",
    "    tf_transformer = TfidfTransformer().fit(train)\n",
    "    X_train_tf = tf_transformer.transform(train)\n",
    "    X_dev_tf = tf_transformer.transform(dev)\n",
    "    X_test_tf = tf_transformer.transform(test)\n",
    "    return X_train_tf, X_dev_tf, X_test_tf"
   ]
  },
  {
   "cell_type": "code",
   "execution_count": 69,
   "metadata": {},
   "outputs": [],
   "source": [
    "def vectors(train, dev, test):\n",
    "    X_train_counts, X_dev_counts, X_test_counts = BoW_vectors(train, dev, test)\n",
    "    X_train_tf, X_dev_tf, X_test_tf = TFIDF_vectors(X_train_counts, X_dev_counts, X_test_counts)\n",
    "    return X_train_counts, X_dev_counts, X_test_counts, X_train_tf, X_dev_tf, X_test_tf"
   ]
  },
  {
   "cell_type": "markdown",
   "metadata": {},
   "source": [
    "## 4. Entrainement et test d'un classifieur Naive Bayes."
   ]
  },
  {
   "cell_type": "code",
   "execution_count": 70,
   "metadata": {},
   "outputs": [],
   "source": [
    "def train_test(X_train, X_dev, X_test, y_train, y_dev, y_test):\n",
    "    clf.fit(X_train, y_train)\n",
    "    train_predict = clf.predict(X_train)\n",
    "    dev_predict = clf.predict(X_dev)\n",
    "    test_predict = clf.predict(X_test)\n",
    "    print('    Accuracy train set : {0:.2f} %'.format(len(train_predict[train_predict == y_train]) / len(y_train)*100))\n",
    "    print('    Accuracy dev set : {0:.2f} %'.format(len(dev_predict[dev_predict == y_dev]) / len(y_dev)*100))\n",
    "    print('    Accuracy test set : {0:.2f} %'.format(len(test_predict[test_predict == y_test]) / len(y_test)*100))"
   ]
  },
  {
   "cell_type": "markdown",
   "metadata": {},
   "source": [
    "## 5. Analyse des erreurs."
   ]
  },
  {
   "cell_type": "code",
   "execution_count": 100,
   "metadata": {},
   "outputs": [],
   "source": [
    "# Classification report.\n",
    "def error_analysis(y, predict, names):\n",
    "    for index, current_y in enumerate(y):\n",
    "        print(\"\\nScores per class \"+names[index]+\" :\")\n",
    "        print(classification_report(current_y, predict[index]))"
   ]
  },
  {
   "cell_type": "markdown",
   "metadata": {},
   "source": [
    "## Programme principal."
   ]
  },
  {
   "cell_type": "code",
   "execution_count": 102,
   "metadata": {},
   "outputs": [
    {
     "data": {
      "image/png": "[encoded data removed]",
      "text/plain": [
       "<Figure size 1440x360 with 2 Axes>"
      ]
     },
     "metadata": {},
     "output_type": "display_data"
    },
    {
     "name": "stdout",
     "output_type": "stream",
     "text": [
      "Train : 2088 = 59.97 %\n",
      "Dev : 697 = 20.02 %\n",
      "Test : 697 = 20.02 %\n",
      "\n",
      "Bag-of-word representation :\n",
      "    Accuracy train set : 82.76 %\n",
      "    Accuracy dev set : 71.16 %\n",
      "    Accuracy test set : 72.45 %\n",
      "\n",
      "TF-IDF representation :\n",
      "    Accuracy train set : 74.66 %\n",
      "    Accuracy dev set : 66.86 %\n",
      "    Accuracy test set : 65.71 %\n",
      "\n",
      "Scores per class Train :\n",
      "               precision    recall  f1-score   support\n",
      "\n",
      "Advertisement       0.08      0.06      0.07       142\n",
      "        Email       0.18      0.18      0.18       366\n",
      "         Form       0.13      0.13      0.13       283\n",
      "       Letter       0.14      0.21      0.17       318\n",
      "         Memo       0.17      0.24      0.20       369\n",
      "         News       0.06      0.04      0.04       110\n",
      "         Note       0.06      0.02      0.03       117\n",
      "       Report       0.07      0.02      0.03       167\n",
      "       Resume       0.06      0.06      0.06        70\n",
      "   Scientific       0.05      0.04      0.05       146\n",
      "\n",
      "  avg / total       0.12      0.14      0.13      2088\n",
      "\n",
      "\n",
      "Scores per class Dev :\n",
      "               precision    recall  f1-score   support\n",
      "\n",
      "Advertisement       0.04      0.02      0.03        45\n",
      "        Email       0.19      0.22      0.21       104\n",
      "         Form       0.08      0.11      0.10        79\n",
      "       Letter       0.21      0.28      0.24       121\n",
      "         Memo       0.16      0.23      0.19       137\n",
      "         News       0.06      0.02      0.03        43\n",
      "         Note       0.00      0.00      0.00        39\n",
      "       Report       0.00      0.00      0.00        49\n",
      "       Resume       0.03      0.04      0.04        27\n",
      "   Scientific       0.15      0.09      0.11        53\n",
      "\n",
      "  avg / total       0.13      0.15      0.14       697\n",
      "\n",
      "\n",
      "Scores per class Test :\n",
      "               precision    recall  f1-score   support\n",
      "\n",
      "Advertisement       0.12      0.05      0.07        43\n",
      "        Email       0.21      0.22      0.22       129\n",
      "         Form       0.05      0.07      0.06        69\n",
      "       Letter       0.17      0.21      0.19       128\n",
      "         Memo       0.19      0.33      0.24       114\n",
      "         News       0.12      0.06      0.08        35\n",
      "         Note       0.00      0.00      0.00        45\n",
      "       Report       0.00      0.00      0.00        49\n",
      "       Resume       0.04      0.04      0.04        23\n",
      "   Scientific       0.16      0.06      0.09        62\n",
      "\n",
      "  avg / total       0.13      0.15      0.14       697\n",
      "\n"
     ]
    }
   ],
   "source": [
    "import os\n",
    "import matplotlib.pyplot as plt\n",
    "from sklearn.model_selection import train_test_split\n",
    "from sklearn.feature_extraction.text import CountVectorizer, TfidfTransformer\n",
    "from sklearn.naive_bayes import MultinomialNB\n",
    "from sklearn.metrics import classification_report, confusion_matrix\n",
    "\n",
    "texts_names, texts_contents, text_category_couples = get_data()\n",
    "data_analysis(texts_names, texts_contents)\n",
    "\n",
    "# Split the data.\n",
    "X, y = zip(*text_category_couples)\n",
    "X_train, X_test, y_train, y_test = train_test_split(X, y, test_size=0.20)\n",
    "X_train, X_dev, y_train, y_dev = train_test_split(X_train, y_train, test_size=(0.20 / (0.60 + 0.20)))\n",
    "print('Train : {0:0} = {1:.2f} %'.format(len(X_train), (len(X_train)/len(X)*100)))\n",
    "print('Dev : {0:0} = {1:.2f} %'.format(len(X_dev), (len(X_dev)/len(X)*100)))\n",
    "print('Test : {0:0} = {1:.2f} %'.format(len(X_test), (len(X_test)/len(X)*100)))\n",
    "\n",
    "X_train_counts, X_dev_counts, X_test_counts, X_train_tf, X_dev_tf, X_test_tf = vectors(X_train, X_dev, X_test)\n",
    "\n",
    "clf = MultinomialNB()\n",
    "# Bag of words representation.\n",
    "print(\"\\nBag-of-word representation :\")\n",
    "train_test(X_train_counts, X_dev_counts, X_test_counts, y_train, y_dev, y_test)\n",
    "# TF-IDF representation.\n",
    "print(\"\\nTF-IDF representation :\")\n",
    "train_test(X_train_tf, X_dev_tf, X_test_tf, y_train, y_dev, y_test)\n",
    "\n",
    "error_analysis([y_train, y_dev, y_test], [train_predict, dev_predict, test_predict], ['Train', 'Dev', 'Test'])\n",
    "\n",
    "# Confusion matrix.\n",
    "#fig, (ax1, ax2, ax3) = plt.subplots(1, 3, figsize=(15, 5))\n",
    "#ax1.matshow(confusion_matrix(y_train, train_predict))\n",
    "#ax1.set_title('Confusions Train\\n')\n",
    "#ax2.matshow(confusion_matrix(y_dev, dev_predict))\n",
    "#ax2.set_title('Confusions Dev\\n')\n",
    "#ax3.matshow(confusion_matrix(y_test, test_predict))\n",
    "#ax3.set_title('Confusions Test\\n')\n",
    "#plt.show()"
   ]
  }
 ],
 "metadata": {
  "kernelspec": {
   "display_name": "Python 3",
   "language": "python",
   "name": "python3"
  },
  "language_info": {
   "codemirror_mode": {
    "name": "ipython",
    "version": 3
   },
   "file_extension": ".py",
   "mimetype": "text/x-python",
   "name": "python",
   "nbconvert_exporter": "python",
   "pygments_lexer": "ipython3",
   "version": "3.6.5"
  }
 },
 "nbformat": 4,
 "nbformat_minor": 2
}
