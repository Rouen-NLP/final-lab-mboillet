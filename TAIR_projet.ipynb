{
 "cells": [
  {
   "cell_type": "markdown",
   "metadata": {},
   "source": [
    "# Classification des documents du procès des groupes américains du tabac.\n",
    "\n",
    "## Mélodie Boillet\n",
    "### 22/12/2018"
   ]
  },
  {
   "cell_type": "markdown",
   "metadata": {},
   "source": [
    "## 1. Stockage des fichiers texte et de leurs contenus dans des dictionnaires."
   ]
  },
  {
   "cell_type": "code",
   "execution_count": 3,
   "metadata": {},
   "outputs": [],
   "source": [
    "def get_data() -> (list, list, list):\n",
    "    \"\"\"\n",
    "    Get the texts from the files.\n",
    "    Iterate on all the directories. Then get all the file names in the current\n",
    "    \"dir_name\" directory. Iterate on all the files of the current \"dir_name\"\n",
    "    directory. Create a dictionary with the categories as keys and an array of the\n",
    "    names of the text files as values. Create a dictionary with the categories\n",
    "    as keys and an array of the contents of the text files as values.\n",
    "    :return texts_names: The list of the texts names.\n",
    "    :return texts_contents: The list of the texts contents.\n",
    "    :return text_category_couples: The list of the texts contents and thei categories.\n",
    "    \"\"\"\n",
    "    texts_names = dict()\n",
    "    texts_contents = dict()\n",
    "    text_category_couples = []\n",
    "    # Iterate on all the directories.\n",
    "    for dir_name in os.listdir(\"./data/Tobacco3482-OCR\"):\n",
    "        # Get all the file names in the current \"dir_name\" directory.\n",
    "        file_names = os.listdir(\"./data/Tobacco3482-OCR/\"+dir_name)\n",
    "        names = []\n",
    "        contents = []\n",
    "        # Iterate on all the files of the current \"dir_name\" directory.\n",
    "        for file_name in file_names:\n",
    "            names.append(file_name)\n",
    "            with open(\"./data/Tobacco3482-OCR/\"+dir_name+\"/\"+file_name, 'r', encoding=\"utf8\") as file:\n",
    "                data = file.read()\n",
    "                text_category_couples.append((data, dir_name))\n",
    "                contents.append(data)\n",
    "        # Create a dictionary with the categories as keys and an array of the names of the text files as values.\n",
    "        texts_names[dir_name] = names\n",
    "        # Create a dictionary with the categories as keys and an array of the contents of the text files as values.\n",
    "        texts_contents[dir_name] = contents\n",
    "    return texts_names, texts_contents, text_category_couples"
   ]
  },
  {
   "cell_type": "markdown",
   "metadata": {},
   "source": [
    "## 2. Analyse des données."
   ]
  },
  {
   "cell_type": "code",
   "execution_count": 4,
   "metadata": {},
   "outputs": [],
   "source": [
    "def data_analysis(texts_names: list, texts_contents: list):\n",
    "    \"\"\"\n",
    "    Do the analysis of the data.\n",
    "    First compute the repartition of the texts by category.\n",
    "    Then compute the mean number of letters in the texts by category.\n",
    "    :param texts_names: The list of the texts names.\n",
    "    :param texts_contents: The list of the texts contents.\n",
    "    \"\"\"\n",
    "    _, (ax1, ax2) = plt.subplots(1, 2, figsize=(20, 5))\n",
    "\n",
    "    ax1.bar(list(texts_names.keys()), [len(texts_names[category]) for category in texts_names.keys()])\n",
    "    ax1.set_xlabel('Categorie')\n",
    "    ax1.set_ylabel('Nombre de textes')\n",
    "    ax1.set_title('Nombre de textes par categorie\\n')\n",
    "\n",
    "    mean_lengths = dict()\n",
    "    for class_name in list(texts_names.keys()):\n",
    "        sum_lengths = 0\n",
    "        mean_length = 0\n",
    "        for index, text in enumerate(texts_contents[class_name]):\n",
    "            sum_lengths += len(text)\n",
    "        mean_length = sum_lengths / (index + 1)\n",
    "        mean_lengths[class_name] = mean_length\n",
    "\n",
    "    ax2.bar(list(mean_lengths.keys()), list(mean_lengths.values()))\n",
    "    ax2.set_xlabel('Categorie')\n",
    "    ax2.set_ylabel('Nombre moyen de lettres')\n",
    "    ax2.set_title('Nombre moyen de lettres par categorie\\n')\n",
    "    plt.show(block=False)"
   ]
  },
  {
   "cell_type": "markdown",
   "metadata": {},
   "source": [
    "## 3. Pré-traitement des données."
   ]
  },
  {
   "cell_type": "code",
   "execution_count": 6,
   "metadata": {},
   "outputs": [],
   "source": [
    "def bow_vectors(train: list, dev: list, test: list) -> (list, list, list):\n",
    "    \"\"\"\n",
    "    Create bag of word vectors from the data.\n",
    "    :param train: The train data.\n",
    "    :param dev: The dev data.\n",
    "    :param test: The test data.\n",
    "    :return X_train_counts: The vectors of the train data.\n",
    "    :return X_dev_counts: The vectors of the dev data.\n",
    "    :return X_test_counts: The vectors of the test data.\n",
    "    \"\"\"\n",
    "    vectorizer = CountVectorizer(max_features=2000)\n",
    "    vectorizer.fit(train)\n",
    "    X_train_counts = vectorizer.transform(train)\n",
    "    X_dev_counts = vectorizer.transform(dev)\n",
    "    X_test_counts = vectorizer.transform(test)\n",
    "    return X_train_counts, X_dev_counts, X_test_counts"
   ]
  },
  {
   "cell_type": "code",
   "execution_count": 8,
   "metadata": {},
   "outputs": [],
   "source": [
    "def tfidf_vectors(train: list, dev: list, test: list) -> (list, list, list):\n",
    "    \"\"\"\n",
    "    Create TF-IDF vectors from the data.\n",
    "    :param train: The train data.\n",
    "    :param dev: The dev data.\n",
    "    :param test: The test data.\n",
    "    :return X_train_tf: The vectors of the train data.\n",
    "    :return X_dev_tf: The vectors of the dev data.\n",
    "    :return X_test_tf: The vectors of the test data.\n",
    "    \"\"\"\n",
    "    tf_transformer = TfidfTransformer().fit(train)\n",
    "    X_train_tf = tf_transformer.transform(train)\n",
    "    X_dev_tf = tf_transformer.transform(dev)\n",
    "    X_test_tf = tf_transformer.transform(test)\n",
    "    return X_train_tf, X_dev_tf, X_test_tf"
   ]
  },
  {
   "cell_type": "markdown",
   "metadata": {},
   "source": [
    "## 4. Entrainement et test d'un classifieur Naive Bayes."
   ]
  },
  {
   "cell_type": "code",
   "execution_count": 9,
   "metadata": {},
   "outputs": [],
   "source": [
    "def train_test(x_train: list, x_dev: list, x_test: list,\n",
    "               y_train: list, y_dev: list, y_test: list) -> (list, list, list):\n",
    "    \"\"\"\n",
    "    Create tf-idf vectors from the data.\n",
    "    :param x_train: The train data.\n",
    "    :param x_dev: The dev data.\n",
    "    :param x_test: The test data.\n",
    "    :param y_train: The categories of the train data.\n",
    "    :param y_dev: The categories of the dev data.\n",
    "    :param y_test: The categories of the test data.\n",
    "    :return train_predict: The vectors of the train data.\n",
    "    :return dev_predict: The vectors of the dev data.\n",
    "    :return test_predict: The vectors of the test data.\n",
    "    \"\"\"\n",
    "    clf = MultinomialNB()\n",
    "    clf.fit(x_train, y_train)\n",
    "    train_predict = clf.predict(x_train)\n",
    "    dev_predict = clf.predict(x_dev)\n",
    "    test_predict = clf.predict(x_test)\n",
    "    print('    Accuracy train set : {0:.2f} %'.format(len(train_predict[train_predict == y_train]) / len(y_train)*100))\n",
    "    print('    Accuracy dev set : {0:.2f} %'.format(len(dev_predict[dev_predict == y_dev]) / len(y_dev)*100))\n",
    "    print('    Accuracy test set : {0:.2f} %'.format(len(test_predict[test_predict == y_test]) / len(y_test)*100))\n",
    "    return train_predict, dev_predict, test_predict"
   ]
  },
  {
   "cell_type": "markdown",
   "metadata": {},
   "source": [
    "## 5. Analyse des erreurs."
   ]
  },
  {
   "cell_type": "code",
   "execution_count": 11,
   "metadata": {},
   "outputs": [],
   "source": [
    "# Classification report.\n",
    "def error_analysis(categories: list, predict: list, names: str):\n",
    "    \"\"\"\n",
    "    Compute the classification report for the train, dev or test data set.\n",
    "    :param y: The categories of the data.\n",
    "    :param X_dev: The predicted categories of the data.\n",
    "    :param X_test: The name of the data set.\n",
    "    \"\"\"\n",
    "    for index, category in enumerate(categories):\n",
    "        print(\"\\nScores per class \"+names[index]+\" :\")\n",
    "        print(classification_report(category, predict[index]))"
   ]
  },
  {
   "cell_type": "markdown",
   "metadata": {},
   "source": [
    "## Programme principal."
   ]
  },
  {
   "cell_type": "code",
   "execution_count": 16,
   "metadata": {},
   "outputs": [
    {
     "data": {
      "image/png": "[encoded data removed]",
      "text/plain": [
       "<Figure size 1440x360 with 2 Axes>"
      ]
     },
     "metadata": {},
     "output_type": "display_data"
    },
    {
     "name": "stdout",
     "output_type": "stream",
     "text": [
      "Train : 2088 = 59.97 %\n",
      "Dev : 697 = 20.02 %\n",
      "Test : 697 = 20.02 %\n",
      "\n",
      "Bag-of-word representation :\n",
      "    Accuracy train set : 82.90 %\n",
      "    Accuracy dev set : 70.44 %\n",
      "    Accuracy test set : 71.74 %\n",
      "\n",
      "TF-IDF representation :\n",
      "    Accuracy train set : 75.81 %\n",
      "    Accuracy dev set : 63.27 %\n",
      "    Accuracy test set : 64.99 %\n",
      "\n",
      "Scores per class Train :\n",
      "               precision    recall  f1-score   support\n",
      "\n",
      "Advertisement       0.82      0.79      0.81       137\n",
      "        Email       0.95      0.97      0.96       355\n",
      "         Form       0.80      0.89      0.84       259\n",
      "       Letter       0.85      0.81      0.83       336\n",
      "         Memo       0.78      0.83      0.81       368\n",
      "         News       0.72      0.86      0.79       109\n",
      "         Note       0.67      0.50      0.57       134\n",
      "       Report       0.78      0.77      0.78       159\n",
      "       Resume       1.00      1.00      1.00        77\n",
      "   Scientific       0.85      0.71      0.77       154\n",
      "\n",
      "  avg / total       0.83      0.83      0.83      2088\n",
      "\n",
      "\n",
      "Scores per class Dev :\n",
      "               precision    recall  f1-score   support\n",
      "\n",
      "Advertisement       0.51      0.47      0.49        43\n",
      "        Email       0.92      0.96      0.94       113\n",
      "         Form       0.73      0.78      0.76        92\n",
      "       Letter       0.79      0.69      0.73       127\n",
      "         Memo       0.60      0.75      0.67       117\n",
      "         News       0.58      0.70      0.63        37\n",
      "         Note       0.38      0.35      0.37        31\n",
      "       Report       0.52      0.51      0.51        53\n",
      "       Resume       0.91      0.95      0.93        22\n",
      "   Scientific       0.86      0.50      0.63        62\n",
      "\n",
      "  avg / total       0.71      0.70      0.70       697\n",
      "\n",
      "\n",
      "Scores per class Test :\n",
      "               precision    recall  f1-score   support\n",
      "\n",
      "Advertisement       0.69      0.68      0.69        50\n",
      "        Email       0.94      0.92      0.93       131\n",
      "         Form       0.68      0.84      0.75        80\n",
      "       Letter       0.69      0.69      0.69       104\n",
      "         Memo       0.66      0.70      0.68       135\n",
      "         News       0.62      0.69      0.65        42\n",
      "         Note       0.48      0.31      0.37        36\n",
      "       Report       0.57      0.51      0.54        53\n",
      "       Resume       0.95      1.00      0.98        21\n",
      "   Scientific       0.67      0.53      0.59        45\n",
      "\n",
      "  avg / total       0.71      0.72      0.71       697\n",
      "\n"
     ]
    },
    {
     "data": {
      "image/png": "[encoded data removed]",
      "text/plain": [
       "<Figure size 1080x720 with 3 Axes>"
      ]
     },
     "metadata": {},
     "output_type": "display_data"
    }
   ],
   "source": [
    "import os\n",
    "import numpy as np\n",
    "import matplotlib.pyplot as plt\n",
    "from sklearn.model_selection import train_test_split\n",
    "from sklearn.feature_extraction.text import CountVectorizer, TfidfTransformer\n",
    "from sklearn.naive_bayes import MultinomialNB\n",
    "from sklearn.metrics import classification_report, confusion_matrix\n",
    "\n",
    "TEXTS_NAMES, TEXTS_CONTENTS, TEXT_CATEGORY_COUPLES = get_data()\n",
    "data_analysis(TEXTS_NAMES, TEXTS_CONTENTS)\n",
    "\n",
    "# Split the data.\n",
    "X, Y = zip(*TEXT_CATEGORY_COUPLES)\n",
    "X_TRAIN, X_TEST, Y_TRAIN, Y_TEST = train_test_split(X, Y, test_size=0.20)\n",
    "X_TRAIN, X_DEV, Y_TRAIN, Y_DEV = train_test_split(X_TRAIN, Y_TRAIN,\n",
    "                                                  test_size=(0.20 / (0.60 + 0.20)))\n",
    "print('Train : {0:0} = {1:.2f} %'.format(len(X_TRAIN), (len(X_TRAIN)/len(X)*100)))\n",
    "print('Dev : {0:0} = {1:.2f} %'.format(len(X_DEV), (len(X_DEV)/len(X)*100)))\n",
    "print('Test : {0:0} = {1:.2f} %'.format(len(X_TEST), (len(Y_TEST)/len(X)*100)))\n",
    "\n",
    "# Compute the vectors.\n",
    "X_TRAIN_COUNTS, X_DEV_COUNTS, X_TEST_COUNTS = bow_vectors(X_TRAIN, X_DEV, X_TEST)\n",
    "X_TRAIN_TF, X_DEV_TF, X_TEST_TF = tfidf_vectors(X_TRAIN_COUNTS, X_DEV_COUNTS, X_TEST_COUNTS)\n",
    "\n",
    "# Train and test.\n",
    "# Bag of words representation.\n",
    "print(\"\\nBag-of-word representation :\")\n",
    "TRAIN_PREDICT, DEV_PREDICT, TEST_PREDICT = train_test(X_TRAIN_COUNTS, X_DEV_COUNTS,\n",
    "                                                      X_TEST_COUNTS, Y_TRAIN, Y_DEV, Y_TEST)\n",
    "BOW_RESULTS = [TRAIN_PREDICT, DEV_PREDICT, TEST_PREDICT]\n",
    "# TF-IDF representation.\n",
    "print(\"\\nTF-IDF representation :\")\n",
    "TRAIN_PREDICT, DEV_PREDICT, TEST_PREDICT = train_test(X_TRAIN_TF, X_DEV_TF,\n",
    "                                                      X_TEST_TF, Y_TRAIN, Y_DEV, Y_TEST)\n",
    "TF_RESULTS = [TRAIN_PREDICT, DEV_PREDICT, TEST_PREDICT]\n",
    "\n",
    "# Error analysis.\n",
    "error_analysis([Y_TRAIN, Y_DEV, Y_TEST],\n",
    "               [BOW_RESULTS[0], BOW_RESULTS[1], BOW_RESULTS[2]],\n",
    "               ['Train', 'Dev', 'Test'])\n",
    "\n",
    "_, [AX1, AX2, AX3] = plt.subplots(1, 3, figsize=(15, 10))\n",
    "AX1.set_title(\"Confusions Train\\n\")\n",
    "AX1.matshow(confusion_matrix(Y_TRAIN, BOW_RESULTS[0]))\n",
    "AX1.set_yticks(range(len(np.unique(Y))))\n",
    "AX1.set_yticklabels(np.unique(Y))\n",
    "AX1.set_xticks([])\n",
    "AX2.set_title(\"Confusions Dev\\n\")\n",
    "AX2.matshow(confusion_matrix(Y_DEV, BOW_RESULTS[1]))\n",
    "AX2.set_yticks([])\n",
    "AX2.set_xticks([])\n",
    "AX3.set_title(\"Confusions Test\\n\")\n",
    "AX3.matshow(confusion_matrix(Y_TEST, BOW_RESULTS[2]))\n",
    "AX3.set_yticks([])\n",
    "AX3.set_xticks([])\n",
    "plt.show(block=True)"
   ]
  }
 ],
 "metadata": {
  "kernelspec": {
   "display_name": "Python 3",
   "language": "python",
   "name": "python3"
  },
  "language_info": {
   "codemirror_mode": {
    "name": "ipython",
    "version": 3
   },
   "file_extension": ".py",
   "mimetype": "text/x-python",
   "name": "python",
   "nbconvert_exporter": "python",
   "pygments_lexer": "ipython3",
   "version": "3.6.5"
  }
 },
 "nbformat": 4,
 "nbformat_minor": 2
}
